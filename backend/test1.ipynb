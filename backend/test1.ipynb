{
 "cells": [
  {
   "cell_type": "code",
   "execution_count": 1,
   "id": "18a7481c",
   "metadata": {},
   "outputs": [
    {
     "name": "stderr",
     "output_type": "stream",
     "text": [
      "WARNING:absl:Compiled the loaded model, but the compiled metrics have yet to be built. `model.compile_metrics` will be empty until you train or evaluate the model.\n"
     ]
    }
   ],
   "source": [
    "import numpy as np\n",
    "import cv2\n",
    "from tensorflow.keras.models import load_model\n",
    "model = load_model(\"final_sudoku.h5\")\n",
    "\n",
    "def preprocess_image(path):\n",
    "    image = cv2.imread(path)\n",
    "    image = cv2.resize(image, (450, 450))\n",
    "    gray = cv2.cvtColor(image, cv2.COLOR_BGR2GRAY)\n",
    "    blur = cv2.GaussianBlur(gray, (3, 3), 6)\n",
    "    thresh = cv2.adaptiveThreshold(blur, 255, cv2.ADAPTIVE_THRESH_MEAN_C,\n",
    "                                   cv2.THRESH_BINARY_INV, 11, 2)\n",
    "    return image, thresh\n",
    "\n",
    "def detect_grid_lines(thresh):\n",
    "    vertical_kernel = cv2.getStructuringElement(cv2.MORPH_RECT, (1, 30))\n",
    "    horizontal_kernel = cv2.getStructuringElement(cv2.MORPH_RECT, (30, 1))\n",
    "    vertical = cv2.erode(thresh, vertical_kernel, iterations=1)\n",
    "    vertical = cv2.dilate(vertical, vertical_kernel, iterations=1)\n",
    "    horizontal = cv2.erode(thresh, horizontal_kernel, iterations=1)\n",
    "    horizontal = cv2.dilate(horizontal, horizontal_kernel, iterations=1)\n",
    "    grid = cv2.addWeighted(vertical, 0.5, horizontal, 0.5, 0.0)\n",
    "    return grid\n",
    "\n",
    "def reorder_points(pts):\n",
    "    pts = pts.reshape((4, 2))\n",
    "    new_pts = np.zeros((4, 2), dtype=\"float32\")\n",
    "    s = pts.sum(axis=1)\n",
    "    new_pts[0] = pts[np.argmin(s)]\n",
    "    new_pts[2] = pts[np.argmax(s)]\n",
    "    diff = np.diff(pts, axis=1)\n",
    "    new_pts[1] = pts[np.argmin(diff)]\n",
    "    new_pts[3] = pts[np.argmax(diff)]\n",
    "    return new_pts\n",
    "\n",
    "def warp_perspective(image, grid_mask):\n",
    "    contours, _ = cv2.findContours(grid_mask, cv2.RETR_EXTERNAL, cv2.CHAIN_APPROX_SIMPLE)\n",
    "    for cnt in sorted(contours, key=cv2.contourArea, reverse=True):\n",
    "        peri = cv2.arcLength(cnt, True)\n",
    "        approx = cv2.approxPolyDP(cnt, 0.02 * peri, True)\n",
    "        if len(approx) == 4:\n",
    "            pts = reorder_points(approx)\n",
    "            dst = np.array([[0, 0], [449, 0], [449, 449], [0, 449]], dtype=\"float32\")\n",
    "            M = cv2.getPerspectiveTransform(pts, dst)\n",
    "            warp = cv2.warpPerspective(image, M, (450, 450))\n",
    "            return warp\n",
    "    return None\n",
    "\n",
    "def extract_cells(warped_grid, cell_size=50,margin=5):\n",
    "    cells = []\n",
    "    warped_grid = cv2.resize(warped_grid, (450, 450))  # Ensure consistent size\n",
    "    for row in range(9):\n",
    "        for col in range(9):\n",
    "            x_start = col * cell_size\n",
    "            y_start = row * cell_size\n",
    "            cell = warped_grid[y_start:y_start + cell_size, x_start:x_start + cell_size]\n",
    "            cropped = cell[margin:cell_size - margin, margin:cell_size - margin]\n",
    "            cells.append(cropped)\n",
    "    return cells  \n",
    "\n",
    "def preprocess_digit(cell):\n",
    "    gray = cv2.cvtColor(cell, cv2.COLOR_BGR2GRAY)\n",
    "    blur = cv2.GaussianBlur(gray, (3, 3), 0)\n",
    "    _, thresh = cv2.threshold(blur, 0, 255, cv2.THRESH_BINARY_INV + cv2.THRESH_OTSU)\n",
    "    contours, _ = cv2.findContours(thresh, cv2.RETR_EXTERNAL, cv2.CHAIN_APPROX_SIMPLE)\n",
    "    if not contours:\n",
    "        return np.zeros((32, 32), dtype=np.uint8)  # Return blank if no contour found\n",
    "    c = max(contours, key=cv2.contourArea)\n",
    "    x, y, w, h = cv2.boundingRect(c)\n",
    "    if w == 0 or h == 0:\n",
    "        return np.zeros((32, 32), dtype=np.uint8)  # Avoid zero-sized crop\n",
    "    roi = thresh[y:y + h, x:x + w]\n",
    "    digit = cv2.resize(roi, (20, 20), interpolation=cv2.INTER_AREA)\n",
    "    padded = np.pad(digit, ((6, 6), (6, 6)), \"constant\", constant_values=0)\n",
    "    return padded\n",
    "\n",
    "def predict_digit(cell_img, model):\n",
    "    processed = preprocess_digit(cell_img)  \n",
    "    norm = processed.astype(\"float32\") / 255.0\n",
    "    norm = norm.reshape(1, 32, 32, 1)\n",
    "    prediction = model.predict(norm, verbose=0)\n",
    "    digit = np.argmax(prediction)\n",
    "    confidence = np.max(prediction)\n",
    "    if confidence < 0.5:\n",
    "        return 0 \n",
    "    return digit\n",
    "\n",
    "def predictSudoku(imagePath):\n",
    "    image, thresh = preprocess_image(imagePath)\n",
    "    grid_mask = detect_grid_lines(thresh)\n",
    "    warped_grid = warp_perspective(image, grid_mask)\n",
    "    if warped_grid is not None:\n",
    "        print(\"✅ Grid successfully extracted and warped.\")\n",
    "        cells = extract_cells(warped_grid)\n",
    "        sudoku_grid = []\n",
    "        for i in range(9):\n",
    "            row = []\n",
    "            for j in range(9):\n",
    "                idx = i * 9 + j\n",
    "                digit = predict_digit(cells[idx], model)\n",
    "                row.append(int(digit))\n",
    "            sudoku_grid.append(row)   \n",
    "        return sudoku_grid\n",
    "    else:\n",
    "        print(\"❌ Grid could not be found.\")\n",
    "        return None"
   ]
  },
  {
   "cell_type": "code",
   "execution_count": 2,
   "id": "dae694eb",
   "metadata": {},
   "outputs": [
    {
     "name": "stdout",
     "output_type": "stream",
     "text": [
      "✅ Grid successfully extracted and warped.\n"
     ]
    },
    {
     "data": {
      "text/plain": [
       "[[0, 7, 0, 0, 2, 0, 0, 4, 6],\n",
       " [0, 6, 0, 0, 0, 0, 8, 9, 0],\n",
       " [2, 0, 0, 8, 0, 0, 7, 1, 5],\n",
       " [0, 8, 4, 0, 9, 7, 0, 0, 0],\n",
       " [7, 1, 0, 0, 0, 0, 0, 5, 9],\n",
       " [0, 0, 0, 1, 3, 0, 4, 8, 0],\n",
       " [6, 9, 7, 0, 0, 2, 0, 0, 8],\n",
       " [0, 5, 8, 0, 0, 0, 0, 6, 0],\n",
       " [4, 3, 0, 0, 8, 0, 0, 7, 0]]"
      ]
     },
     "execution_count": 2,
     "metadata": {},
     "output_type": "execute_result"
    }
   ],
   "source": [
    "imagePath = './Sudoku.jpg'\n",
    "predictSudoku(imagePath)"
   ]
  },
  {
   "cell_type": "code",
   "execution_count": null,
   "id": "70e5b16a",
   "metadata": {},
   "outputs": [],
   "source": []
  }
 ],
 "metadata": {
  "kernelspec": {
   "display_name": "Python 3",
   "language": "python",
   "name": "python3"
  },
  "language_info": {
   "codemirror_mode": {
    "name": "ipython",
    "version": 3
   },
   "file_extension": ".py",
   "mimetype": "text/x-python",
   "name": "python",
   "nbconvert_exporter": "python",
   "pygments_lexer": "ipython3",
   "version": "3.12.1"
  }
 },
 "nbformat": 4,
 "nbformat_minor": 5
}
